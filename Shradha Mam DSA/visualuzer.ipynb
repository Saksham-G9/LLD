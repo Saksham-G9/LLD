{
 "cells": [
  {
   "cell_type": "code",
   "execution_count": 3,
   "id": "7b9b9317",
   "metadata": {},
   "outputs": [
    {
     "name": "stdout",
     "output_type": "stream",
     "text": [
      "Requirement already satisfied: recursion-visualiser in d:\\programming\\python\\dsa\\.venv\\lib\\site-packages (1.0.3)\n",
      "Requirement already satisfied: pydot in d:\\programming\\python\\dsa\\.venv\\lib\\site-packages (from recursion-visualiser) (4.0.1)\n",
      "Requirement already satisfied: imageio in d:\\programming\\python\\dsa\\.venv\\lib\\site-packages (from recursion-visualiser) (2.37.0)\n",
      "Requirement already satisfied: numpy in d:\\programming\\python\\dsa\\.venv\\lib\\site-packages (from imageio->recursion-visualiser) (2.3.2)\n",
      "Requirement already satisfied: pillow>=8.3.2 in d:\\programming\\python\\dsa\\.venv\\lib\\site-packages (from imageio->recursion-visualiser) (11.3.0)\n",
      "Requirement already satisfied: pyparsing>=3.1.0 in d:\\programming\\python\\dsa\\.venv\\lib\\site-packages (from pydot->recursion-visualiser) (3.2.3)\n"
     ]
    }
   ],
   "source": [
    "# in a notebook cell\n",
    "!pip install recursion-visualiser"
   ]
  },
  {
   "cell_type": "code",
   "execution_count": 4,
   "id": "9f8738ed",
   "metadata": {},
   "outputs": [
    {
     "ename": "ModuleNotFoundError",
     "evalue": "No module named 'recursion_visualiser'",
     "output_type": "error",
     "traceback": [
      "\u001b[31m---------------------------------------------------------------------------\u001b[39m",
      "\u001b[31mModuleNotFoundError\u001b[39m                       Traceback (most recent call last)",
      "\u001b[36mCell\u001b[39m\u001b[36m \u001b[39m\u001b[32mIn[4]\u001b[39m\u001b[32m, line 1\u001b[39m\n\u001b[32m----> \u001b[39m\u001b[32m1\u001b[39m \u001b[38;5;28;01mfrom\u001b[39;00m\u001b[38;5;250m \u001b[39m\u001b[34;01mrecursion_visualiser\u001b[39;00m\u001b[38;5;250m \u001b[39m\u001b[38;5;28;01mimport\u001b[39;00m recursion_visualiser\n\u001b[32m      3\u001b[39m \u001b[38;5;129m@recursion_visualiser\u001b[39m\n\u001b[32m      4\u001b[39m \u001b[38;5;28;01mdef\u001b[39;00m\u001b[38;5;250m \u001b[39m\u001b[34mpartition\u001b[39m(s):\n\u001b[32m      5\u001b[39m     ans = []\n",
      "\u001b[31mModuleNotFoundError\u001b[39m: No module named 'recursion_visualiser'"
     ]
    }
   ],
   "source": [
    "from recursion_visualiser import recursion_visualiser\n",
    "\n",
    "@recursion_visualiser\n",
    "def partition(s):\n",
    "    ans = []\n",
    "    def _backtrack(s, path):\n",
    "        if not s:\n",
    "            ans.append(path)\n",
    "            return\n",
    "        for i in range(1, len(s)+1):\n",
    "            left, right = s[:i], s[i:]\n",
    "            if left == left[::-1]:\n",
    "                _backtrack(right, path + [left])\n",
    "    _backtrack(s, [])\n",
    "    return ans\n",
    "\n",
    "partition(\"aab\")        # run once to build the tree\n",
    "partition.visualise(\n",
    "    node_attr={'fontsize':'10'},\n",
    "    edge_attr={'fontsize':'8'},\n",
    "    direction='TB'          # top-to-bottom, or 'LR' for left-right\n",
    ")\n"
   ]
  },
  {
   "cell_type": "code",
   "execution_count": null,
   "id": "7fec5041",
   "metadata": {},
   "outputs": [],
   "source": []
  }
 ],
 "metadata": {
  "kernelspec": {
   "display_name": ".venv",
   "language": "python",
   "name": "python3"
  },
  "language_info": {
   "codemirror_mode": {
    "name": "ipython",
    "version": 3
   },
   "file_extension": ".py",
   "mimetype": "text/x-python",
   "name": "python",
   "nbconvert_exporter": "python",
   "pygments_lexer": "ipython3",
   "version": "3.12.10"
  }
 },
 "nbformat": 4,
 "nbformat_minor": 5
}
